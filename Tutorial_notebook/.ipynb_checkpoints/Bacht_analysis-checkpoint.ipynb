{
 "cells": [
  {
   "cell_type": "code",
   "execution_count": 2,
   "id": "878dc220",
   "metadata": {},
   "outputs": [],
   "source": [
    "import sys"
   ]
  },
  {
   "cell_type": "code",
   "execution_count": 3,
   "id": "447ec42d",
   "metadata": {},
   "outputs": [],
   "source": [
    "sys.path.insert(0,'..')"
   ]
  },
  {
   "cell_type": "code",
   "execution_count": 6,
   "id": "fa02591a",
   "metadata": {},
   "outputs": [
    {
     "ename": "ModuleNotFoundError",
     "evalue": "No module named 'preprocess'",
     "output_type": "error",
     "traceback": [
      "\u001b[0;31m---------------------------------------------------------------------------\u001b[0m",
      "\u001b[0;31mModuleNotFoundError\u001b[0m                       Traceback (most recent call last)",
      "\u001b[0;32m<ipython-input-6-63b25dadb884>\u001b[0m in \u001b[0;36m<module>\u001b[0;34m\u001b[0m\n\u001b[1;32m      1\u001b[0m \u001b[0;32mimport\u001b[0m \u001b[0msrc\u001b[0m\u001b[0;34m.\u001b[0m\u001b[0mpreprocess\u001b[0m\u001b[0;34m\u001b[0m\u001b[0;34m\u001b[0m\u001b[0m\n\u001b[0;32m----> 2\u001b[0;31m \u001b[0;32mimport\u001b[0m \u001b[0msrc\u001b[0m\u001b[0;34m.\u001b[0m\u001b[0mstore_results\u001b[0m\u001b[0;34m\u001b[0m\u001b[0;34m\u001b[0m\u001b[0m\n\u001b[0m\u001b[1;32m      3\u001b[0m \u001b[0;32mimport\u001b[0m \u001b[0msrc\u001b[0m\u001b[0;34m.\u001b[0m\u001b[0mplot\u001b[0m\u001b[0;34m\u001b[0m\u001b[0;34m\u001b[0m\u001b[0m\n\u001b[1;32m      4\u001b[0m \u001b[0;32mimport\u001b[0m \u001b[0msrc\u001b[0m\u001b[0;34m.\u001b[0m\u001b[0mpeak_area\u001b[0m\u001b[0;34m\u001b[0m\u001b[0;34m\u001b[0m\u001b[0m\n\u001b[1;32m      5\u001b[0m \u001b[0;32mimport\u001b[0m \u001b[0msrc\u001b[0m\u001b[0;34m.\u001b[0m\u001b[0manalysis\u001b[0m\u001b[0;34m\u001b[0m\u001b[0;34m\u001b[0m\u001b[0m\n",
      "\u001b[0;32m~/Documents/Job/HIWI_JOB/hiwi_python_scripts/refactoring_project/src/store_results.py\u001b[0m in \u001b[0;36m<module>\u001b[0;34m\u001b[0m\n\u001b[1;32m     31\u001b[0m \u001b[0;32mimport\u001b[0m \u001b[0msys\u001b[0m\u001b[0;34m\u001b[0m\u001b[0;34m\u001b[0m\u001b[0m\n\u001b[1;32m     32\u001b[0m \u001b[0;32mfrom\u001b[0m \u001b[0mscipy\u001b[0m\u001b[0;34m.\u001b[0m\u001b[0minterpolate\u001b[0m \u001b[0;32mimport\u001b[0m \u001b[0minterp1d\u001b[0m\u001b[0;34m\u001b[0m\u001b[0;34m\u001b[0m\u001b[0m\n\u001b[0;32m---> 33\u001b[0;31m \u001b[0;32mimport\u001b[0m \u001b[0mpreprocess\u001b[0m\u001b[0;34m\u001b[0m\u001b[0;34m\u001b[0m\u001b[0m\n\u001b[0m\u001b[1;32m     34\u001b[0m \u001b[0;34m\u001b[0m\u001b[0m\n\u001b[1;32m     35\u001b[0m \u001b[0;31m# %%\u001b[0m\u001b[0;34m\u001b[0m\u001b[0;34m\u001b[0m\u001b[0;34m\u001b[0m\u001b[0m\n",
      "\u001b[0;31mModuleNotFoundError\u001b[0m: No module named 'preprocess'"
     ]
    }
   ],
   "source": [
    "import src.preprocess\n",
    "import src.store_results\n",
    "import src.plot\n",
    "import src.peak_area\n",
    "import src.analysis\n",
    "import src.live_dev\n",
    "from datetime import datetime\n",
    "import time\n",
    "import warnings\n",
    "\n",
    "warnings.filterwarnings(\"ignore\")\n"
   ]
  },
  {
   "cell_type": "markdown",
   "id": "8165d780",
   "metadata": {},
   "source": [
    "# Input Data"
   ]
  },
  {
   "cell_type": "code",
   "execution_count": null,
   "id": "fcbb10a0",
   "metadata": {},
   "outputs": [],
   "source": [
    "source_1 = r\"/Users/nguyenminhhieu/Documents/Job/HIWI_JOB/source_live_data/test\"\n",
    "destination_1 = r\"/Users/nguyenminhhieu/Documents/Job/HIWI_JOB/live_data\"\n",
    "start_date_time_1 = datetime(2021, 6, 14, 0, 0, 0, 0)\n"
   ]
  },
  {
   "cell_type": "markdown",
   "id": "136e832d",
   "metadata": {},
   "source": [
    "# Create bagdata instance for preprocessing task"
   ]
  },
  {
   "cell_type": "code",
   "execution_count": null,
   "id": "54b533b7",
   "metadata": {},
   "outputs": [],
   "source": [
    "bagdata_1 = preprocess.Bag_data(source_1, destination_1, start_date_time_1)"
   ]
  },
  {
   "cell_type": "code",
   "execution_count": null,
   "id": "ddbe43b4",
   "metadata": {},
   "outputs": [],
   "source": [
    "infor= bagdata_1.information"
   ]
  },
  {
   "cell_type": "code",
   "execution_count": null,
   "id": "ab65c340",
   "metadata": {},
   "outputs": [],
   "source": [
    "infor_df = pd.read_csv(infor)\n",
    "infor_df"
   ]
  },
  {
   "cell_type": "markdown",
   "id": "5a2f4662",
   "metadata": {},
   "source": [
    "# Create instance for storing results task"
   ]
  },
  {
   "cell_type": "code",
   "execution_count": 8,
   "id": "c2889c60",
   "metadata": {
    "scrolled": true
   },
   "outputs": [
    {
     "name": "stdout",
     "output_type": "stream",
     "text": [
      "The file /Users/nguyenminhhieu/Documents/Job/HIWI_JOB/live_data/Bag_result_1 already existedalready exists,                  please change name option variable.\n"
     ]
    },
    {
     "ename": "SystemExit",
     "evalue": "",
     "output_type": "error",
     "traceback": [
      "An exception has occurred, use %tb to see the full traceback.\n",
      "\u001b[0;31mSystemExit\u001b[0m\n"
     ]
    }
   ],
   "source": [
    "bagresult_1 = store_results.Bag_result(bagdata=bagdata_1, nameoption='_1')\n",
    "#bagresult_1.save()"
   ]
  },
  {
   "cell_type": "markdown",
   "id": "b65da8db",
   "metadata": {},
   "source": [
    "## load existed  bagresult "
   ]
  },
  {
   "cell_type": "code",
   "execution_count": null,
   "id": "41c7d804",
   "metadata": {},
   "outputs": [],
   "source": [
    "bagresult_1 = store_results.load_bagresult(destination_folder=destination_1, bagresult_name= 'bag_result_1')"
   ]
  },
  {
   "cell_type": "markdown",
   "id": "65cf25bf",
   "metadata": {},
   "source": [
    "# Plot 2d and 3d"
   ]
  },
  {
   "cell_type": "code",
   "execution_count": null,
   "id": "0f6e89df",
   "metadata": {},
   "outputs": [],
   "source": [
    "#2d plot\n",
    "_2d = plot.plot_2d(bag_result=  bagresult_1, \n",
    "                   timestr= 1, timeend= 5, \n",
    "                   ppmstr= 2.5, ppmend= 2.8)"
   ]
  },
  {
   "cell_type": "code",
   "execution_count": null,
   "id": "300ab057",
   "metadata": {},
   "outputs": [],
   "source": [
    "#3d\n",
    "_3D = plot.plot_3D(bag_result=  bagresult_1,\n",
    "                   timestr= 1, timeend= 5, \n",
    "                   ppmstr= 2.5, ppmend= 2.8, \n",
    "                   view_op1=10, view_op2=5)"
   ]
  },
  {
   "cell_type": "markdown",
   "id": "4e0a8c92",
   "metadata": {},
   "source": [
    "# Peak area compute"
   ]
  },
  {
   "cell_type": "code",
   "execution_count": null,
   "id": "b20d4d50",
   "metadata": {},
   "outputs": [],
   "source": [
    "keton = peak_area.Chemical_shift(name= 'keton',\n",
    "                                 nr_proton= 6,\n",
    "                                 ppmstr= 2.5,\n",
    "                                 ppmend=2.8)\n",
    "                                \n",
    "alcohol = peak_area.Chemical_shift(name='alcohol',\n",
    "                                   nr_proton= 3,\n",
    "                                   ppmstr= 1,\n",
    "                                   ppmend=2)\n",
    "\n",
    "tmsp = peak_area.Chemical_shift(name='tmsp',\n",
    "                                nr_proton= 9,\n",
    "                                ppmstr=1,\n",
    "                                ppmend=3)"
   ]
  },
  {
   "cell_type": "code",
   "execution_count": null,
   "id": "d59585d0",
   "metadata": {},
   "outputs": [],
   "source": [
    "baganalysis_1 = analysis.Baganalysis(sty_const= 0.9,\n",
    "                                     c0_tmsp= 0.5,\n",
    "                                     bagresult= bagresult_1,\n",
    "                                     tmsp = tmsp,\n",
    "                                     chemicals = [ keton,\n",
    "                                                  alcohol ])   "
   ]
  },
  {
   "cell_type": "code",
   "execution_count": null,
   "id": "e6135de7",
   "metadata": {},
   "outputs": [],
   "source": [
    "baganalysis_1.analysis_df"
   ]
  }
 ],
 "metadata": {
  "kernelspec": {
   "display_name": "Python 3",
   "language": "python",
   "name": "python3"
  },
  "language_info": {
   "codemirror_mode": {
    "name": "ipython",
    "version": 3
   },
   "file_extension": ".py",
   "mimetype": "text/x-python",
   "name": "python",
   "nbconvert_exporter": "python",
   "pygments_lexer": "ipython3",
   "version": "3.9.4"
  }
 },
 "nbformat": 4,
 "nbformat_minor": 5
}
