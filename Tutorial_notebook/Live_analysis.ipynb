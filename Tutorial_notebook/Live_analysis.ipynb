{
 "cells": [
  {
   "cell_type": "markdown",
   "id": "81f2503d",
   "metadata": {},
   "source": [
    "## Live task\n",
    "1. Monitor function:\n",
    "monitor function returns a notification and path of new created csv \n",
    "path\n",
    "* 1-bagdata -> mul. bagresults \n",
    "* 1- bagresults -> mul. baganalysis (diff. chemical, diff.bag)\n",
    "* live_baganalyis (update function(bag_anaylysis)-> -.... bagdata )"
   ]
  },
  {
   "cell_type": "code",
   "execution_count": 1,
   "id": "255404d2",
   "metadata": {},
   "outputs": [],
   "source": [
    "import sys\n",
    "sys.path.insert(0,'..')\n",
    "import src.preprocess as preprocess\n",
    "import src.store_results as store_results\n",
    "import src.plot as plot\n",
    "import src.peak_area as peak_area\n",
    "import src.analysis as analysis\n",
    "import src.live_dev as live_dev\n",
    "from datetime import datetime\n",
    "import time\n",
    "import warnings\n",
    "import pandas as pd\n",
    "warnings.filterwarnings(\"ignore\")\n"
   ]
  },
  {
   "cell_type": "code",
   "execution_count": 2,
   "id": "44282f21",
   "metadata": {},
   "outputs": [],
   "source": [
    "source_1 = r\"/Users/nguyenminhhieu/Documents/Job/HIWI_JOB/source_live_data/test\"\n",
    "destination_1 = r\"/Users/nguyenminhhieu/Documents/Job/HIWI_JOB/live_data\"\n",
    "start_date_time_1 = datetime(2021, 6, 14, 0, 0, 0, 0)\n",
    "\n",
    "keton = peak_area.Chemical_shift(name= 'keton',\n",
    "                                 nr_proton= 6,\n",
    "                                 ppmstr= 2.5,\n",
    "                                 ppmend=2.8)\n",
    "                                \n",
    "alcohol = peak_area.Chemical_shift(name='alcohol',\n",
    "                                   nr_proton= 3,\n",
    "                                   ppmstr= 1,\n",
    "                                   ppmend=2)\n",
    "\n",
    "tmsp = peak_area.Chemical_shift(name='tmsp',\n",
    "                                nr_proton= 9,\n",
    "                                ppmstr=1,\n",
    "                                ppmend=3)\n",
    "bagdata_1 = preprocess.Bag_data(source_1, destination_1, start_date_time_1)\n",
    "bagresult_1 = store_results.Bag_result(bagdata=bagdata_1, nameoption='_1')\n",
    "baganalysis_1 = analysis.Bag_analysis(sty_const= 0.9,\n",
    "                                     c0_tmsp= 0.5,\n",
    "                                     bagresult= bagresult_1,\n",
    "                                     tmsp = tmsp,\n",
    "                                     chemicals = [ keton,\n",
    "                                                  alcohol ],\n",
    "                                      nameoption='_1')\n"
   ]
  },
  {
   "cell_type": "code",
   "execution_count": 3,
   "id": "ec687d34",
   "metadata": {},
   "outputs": [
    {
     "name": "stdout",
     "output_type": "stream",
     "text": [
      "__ Start __\n",
      "__________________________________________________\n",
      "new measurement 2021-06-14 17:43:53.235000\n",
      "__________________________________________________\n",
      "copy9253 now in Targetfolder\n",
      "   Time    keton   alcohol      tmsp  keton_per_proton  alcohol_per_proton  \\\n",
      "0  9253  0.41183  6.160694  8.522724          0.068638            2.053565   \n",
      "\n",
      "   tmsp_per_proton  keton_concentration  alcohol_concentration  keton_sty  \\\n",
      "0         0.946969             0.036241               1.084283   0.032617   \n",
      "\n",
      "   alcohol_sty  \n",
      "0     0.975854  \n",
      "new measurement 2021-06-14 17:53:52.680000\n",
      "__________________________________________________\n",
      "copy9852 now in Targetfolder\n",
      "   Time    keton   alcohol       tmsp  keton_per_proton  alcohol_per_proton  \\\n",
      "0  9852  1.46857  8.216873  11.676897          0.244762            2.738958   \n",
      "\n",
      "   tmsp_per_proton  keton_concentration  alcohol_concentration  keton_sty  \\\n",
      "0         1.297433             0.094325                1.05553   0.084893   \n",
      "\n",
      "   alcohol_sty  \n",
      "0     0.949977  \n",
      "new measurement 2021-06-14 18:03:52.206000\n",
      "__________________________________________________\n",
      "update 2021-06-14 18:03:52.206000\n",
      "__________________________________________________\n",
      "update 2021-06-14 18:03:52.206000\n",
      "__Finalupdate__\n",
      "copy10452 now in Targetfolder\n",
      "    Time     keton    alcohol       tmsp  keton_per_proton  \\\n",
      "0  10452  3.268379  12.054445  23.611433           0.54473   \n",
      "\n",
      "   alcohol_per_proton  tmsp_per_proton  keton_concentration  \\\n",
      "0            4.018148         2.623493             0.103818   \n",
      "\n",
      "   alcohol_concentration  keton_sty  alcohol_sty  \n",
      "0               0.765801   0.093436     0.689221  \n",
      "__ Finish __\n"
     ]
    }
   ],
   "source": [
    "live_ana = live_dev.Live_analysis(baganalysis_1)\n",
    "live_ana.live_update()"
   ]
  },
  {
   "cell_type": "code",
   "execution_count": null,
   "id": "4c2758cd",
   "metadata": {},
   "outputs": [],
   "source": []
  }
 ],
 "metadata": {
  "kernelspec": {
   "display_name": "Python 3",
   "language": "python",
   "name": "python3"
  },
  "language_info": {
   "codemirror_mode": {
    "name": "ipython",
    "version": 3
   },
   "file_extension": ".py",
   "mimetype": "text/x-python",
   "name": "python",
   "nbconvert_exporter": "python",
   "pygments_lexer": "ipython3",
   "version": "3.9.4"
  }
 },
 "nbformat": 4,
 "nbformat_minor": 5
}
