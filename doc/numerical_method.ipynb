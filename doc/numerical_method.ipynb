{
 "cells": [
  {
   "cell_type": "markdown",
   "id": "c0b25542",
   "metadata": {},
   "source": [
    "# Interpolation \n",
    "* export data for each measurement will be in the form\n",
    "frequency (x) - intensity f(x)\n",
    "\n",
    "* Suppose that there exists a continuous function f(x) where x is the frequency from a set of real numbers $x\\in \\mathbb{R}$.\n",
    "* Call the set of points at which the machine measures the value of $f(x): x \\in KFx \\subset \\mathbb{R}$ where $KFx= KnowFx= {x_0, ....,x_N}$ a discrete set of known data points.\n",
    "* We only know the value of $f(x): x \\in KFx$ (the frequency point measured by the machine),\n",
    "  so there will be a lot of unknown values $f(\\hat{x}): \\hat{x} \\in uKFx$ with $uKFx = UnknownFx = \\mathbb{R} \\setminus KFx$.\n",
    "* To find unknown values $f(\\hat{x})$, we use interpolation. \n",
    "* Interpolation is a type of estimation, a method of constructing (finding) new data points based on the range of a discrete set of known data points. Data points from the original function can be interpolated to produce a simpler function which is still fairly close to the original. \n",
    "* Let  $\\tilde{f}(x)$ be our approximation function.\n",
    "  * the unknown values $f(\\hat{x}) \\approx \\tilde{f}(\\hat{x})$ where  $\\hat{x} \\in uKFx$\n",
    "  * and also satisfied $f(x) = \\tilde{f}(x)$ where $x \\in KFx$ (the  original data points from each measurement will not be manupalated)\n",
    "\n",
    "## for example:\n",
    "I make up a dataset:\n",
    "\n",
    "| frequency (x)| intensity f(x) |\n",
    "| ----------- | ----------- |\n",
    "| -3      | 9       |\n",
    "| -2   | 4        |\n",
    "| -1   | 1        |\n",
    "| 0   | 0        |\n",
    "|1   | 1        |\n",
    "| 2   | 4        |\n",
    "| 3   | 9        |\n",
    "\n",
    "* Interpolation provides a means of estimating the function at intermediate points, such as $x= 2.5$\n",
    "\n",
    "* There some methods of interpolation, differing in such properties as: accuracy, cost, number of data points needed, and smoothness of the resulting interpolant function. \n",
    "In our case we use Cubic Spline Interpolation. \n",
    "```\n",
    "class scipy.interpolate.interp1d(x, y, kind='cubic')\n",
    "see [store_results.interpolation_datadict]\n",
    "tem_f = interp1d(tem_x, tem_y, kind=\"cubic\")\n",
    "```\n",
    "* Cubic spline interpolation is a special case for Spline interpolation that is used very often to avoid the problem of Runge's phenomenon. \n",
    "* This method gives an interpolating polynomial that is smoother and has smaller error than some other interpolating polynomials such as Lagrange polynomial and Newton polynomial.\n",
    "\n",
    "# Numerical integration\n",
    "* we also use our interpolation function $\\tilde{f}(x)$ for the numerical integration task (compute peak area)\n",
    "* for example:\n",
    "    we want to have peak area of any intervall $[x_1,x_2]$, we have\n",
    "\t$$PeakArea =  \\int_{x_1}^{x_2} \\tilde{f}(x) \\,dx$$\n",
    "* There are also some methods of numerical integral. In our case, we use Gaussian quadrature,which estimates integrals using numerical quadrature.\n",
    "```\n",
    "scipy.integrate.quad(func, a, b)\n",
    "see peak_area.compute_single_peak_area\n",
    "peak_area = np.abs(\n",
    "            quad(f, chemical_shift.ppmstr, chemical_shift.ppmend))\n",
    "```\n",
    "\n"
   ]
  }
 ],
 "metadata": {
  "kernelspec": {
   "display_name": "Python 3",
   "language": "python",
   "name": "python3"
  },
  "language_info": {
   "codemirror_mode": {
    "name": "ipython",
    "version": 3
   },
   "file_extension": ".py",
   "mimetype": "text/x-python",
   "name": "python",
   "nbconvert_exporter": "python",
   "pygments_lexer": "ipython3",
   "version": "3.9.4"
  }
 },
 "nbformat": 4,
 "nbformat_minor": 5
}
